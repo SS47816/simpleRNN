{
 "cells": [
  {
   "cell_type": "markdown",
   "id": "c8749f70-f227-4017-96f5-6a871eb84e5b",
   "metadata": {},
   "source": [
    "# A Simple MLP"
   ]
  },
  {
   "cell_type": "code",
   "execution_count": 1,
   "id": "05073cad-908b-400c-a00f-0bc599b5de2a",
   "metadata": {},
   "outputs": [],
   "source": [
    "# mlp for multi-output regression\n",
    "from numpy import mean\n",
    "from numpy import std\n",
    "import pandas as pd\n",
    "import seaborn as sns\n",
    "import tensorflow as tf\n",
    "import matplotlib.pyplot as plt\n",
    "from sklearn.datasets import make_regression\n",
    "from sklearn.model_selection import RepeatedKFold\n",
    "from keras.models import Sequential\n",
    "from keras.layers import Dense\n",
    "from keras import Input"
   ]
  },
  {
   "cell_type": "code",
   "execution_count": 2,
   "id": "60fc26d5-7f73-45ae-a875-762dfd496195",
   "metadata": {},
   "outputs": [
    {
     "name": "stdout",
     "output_type": "stream",
     "text": [
      "DataFrame Shape: 29701 rows, 10 columns\n"
     ]
    },
    {
     "data": {
      "text/html": [
       "<div>\n",
       "<style scoped>\n",
       "    .dataframe tbody tr th:only-of-type {\n",
       "        vertical-align: middle;\n",
       "    }\n",
       "\n",
       "    .dataframe tbody tr th {\n",
       "        vertical-align: top;\n",
       "    }\n",
       "\n",
       "    .dataframe thead th {\n",
       "        text-align: right;\n",
       "    }\n",
       "</style>\n",
       "<table border=\"1\" class=\"dataframe\">\n",
       "  <thead>\n",
       "    <tr style=\"text-align: right;\">\n",
       "      <th></th>\n",
       "      <th>t</th>\n",
       "      <th>1</th>\n",
       "      <th>2</th>\n",
       "      <th>3</th>\n",
       "      <th>4</th>\n",
       "      <th>time</th>\n",
       "      <th>x</th>\n",
       "      <th>y</th>\n",
       "      <th>delta_x</th>\n",
       "      <th>delta_y</th>\n",
       "    </tr>\n",
       "  </thead>\n",
       "  <tbody>\n",
       "    <tr>\n",
       "      <th>0</th>\n",
       "      <td>0.00</td>\n",
       "      <td>119.947865</td>\n",
       "      <td>102.751992</td>\n",
       "      <td>100.623908</td>\n",
       "      <td>101</td>\n",
       "      <td>0.00</td>\n",
       "      <td>15.860380</td>\n",
       "      <td>-23.297520</td>\n",
       "      <td>0.000000</td>\n",
       "      <td>0.000000</td>\n",
       "    </tr>\n",
       "    <tr>\n",
       "      <th>1</th>\n",
       "      <td>0.01</td>\n",
       "      <td>119.927054</td>\n",
       "      <td>102.738962</td>\n",
       "      <td>100.628316</td>\n",
       "      <td>101</td>\n",
       "      <td>0.01</td>\n",
       "      <td>15.860189</td>\n",
       "      <td>-23.298586</td>\n",
       "      <td>-0.000191</td>\n",
       "      <td>-0.001066</td>\n",
       "    </tr>\n",
       "    <tr>\n",
       "      <th>2</th>\n",
       "      <td>0.02</td>\n",
       "      <td>119.906244</td>\n",
       "      <td>102.725932</td>\n",
       "      <td>100.632724</td>\n",
       "      <td>101</td>\n",
       "      <td>0.02</td>\n",
       "      <td>15.859999</td>\n",
       "      <td>-23.299651</td>\n",
       "      <td>-0.000191</td>\n",
       "      <td>-0.001066</td>\n",
       "    </tr>\n",
       "    <tr>\n",
       "      <th>3</th>\n",
       "      <td>0.03</td>\n",
       "      <td>119.885434</td>\n",
       "      <td>102.712902</td>\n",
       "      <td>100.637131</td>\n",
       "      <td>101</td>\n",
       "      <td>0.03</td>\n",
       "      <td>15.859808</td>\n",
       "      <td>-23.300717</td>\n",
       "      <td>-0.000191</td>\n",
       "      <td>-0.001066</td>\n",
       "    </tr>\n",
       "    <tr>\n",
       "      <th>4</th>\n",
       "      <td>0.04</td>\n",
       "      <td>119.864623</td>\n",
       "      <td>102.699872</td>\n",
       "      <td>100.641539</td>\n",
       "      <td>101</td>\n",
       "      <td>0.04</td>\n",
       "      <td>15.859618</td>\n",
       "      <td>-23.301783</td>\n",
       "      <td>-0.000191</td>\n",
       "      <td>-0.001066</td>\n",
       "    </tr>\n",
       "  </tbody>\n",
       "</table>\n",
       "</div>"
      ],
      "text/plain": [
       "      t           1           2           3    4  time          x          y  \\\n",
       "0  0.00  119.947865  102.751992  100.623908  101  0.00  15.860380 -23.297520   \n",
       "1  0.01  119.927054  102.738962  100.628316  101  0.01  15.860189 -23.298586   \n",
       "2  0.02  119.906244  102.725932  100.632724  101  0.02  15.859999 -23.299651   \n",
       "3  0.03  119.885434  102.712902  100.637131  101  0.03  15.859808 -23.300717   \n",
       "4  0.04  119.864623  102.699872  100.641539  101  0.04  15.859618 -23.301783   \n",
       "\n",
       "    delta_x   delta_y  \n",
       "0  0.000000  0.000000  \n",
       "1 -0.000191 -0.001066  \n",
       "2 -0.000191 -0.001066  \n",
       "3 -0.000191 -0.001066  \n",
       "4 -0.000191 -0.001066  "
      ]
     },
     "metadata": {},
     "output_type": "display_data"
    }
   ],
   "source": [
    "df = pd.read_csv('./data/train.csv')\n",
    "print(\"DataFrame Shape: {} rows, {} columns\".format(*df.shape))\n",
    "display(df.head())"
   ]
  },
  {
   "cell_type": "code",
   "execution_count": 3,
   "id": "1e02d3fa-2936-4038-aa79-a0fee44bc53d",
   "metadata": {},
   "outputs": [
    {
     "data": {
      "text/html": [
       "<div>\n",
       "<style scoped>\n",
       "    .dataframe tbody tr th:only-of-type {\n",
       "        vertical-align: middle;\n",
       "    }\n",
       "\n",
       "    .dataframe tbody tr th {\n",
       "        vertical-align: top;\n",
       "    }\n",
       "\n",
       "    .dataframe thead th {\n",
       "        text-align: right;\n",
       "    }\n",
       "</style>\n",
       "<table border=\"1\" class=\"dataframe\">\n",
       "  <thead>\n",
       "    <tr style=\"text-align: right;\">\n",
       "      <th></th>\n",
       "      <th>1</th>\n",
       "      <th>2</th>\n",
       "      <th>3</th>\n",
       "      <th>4</th>\n",
       "    </tr>\n",
       "    <tr>\n",
       "      <th>t</th>\n",
       "      <th></th>\n",
       "      <th></th>\n",
       "      <th></th>\n",
       "      <th></th>\n",
       "    </tr>\n",
       "  </thead>\n",
       "  <tbody>\n",
       "    <tr>\n",
       "      <th>0.00</th>\n",
       "      <td>119.947865</td>\n",
       "      <td>102.751992</td>\n",
       "      <td>100.623908</td>\n",
       "      <td>101</td>\n",
       "    </tr>\n",
       "    <tr>\n",
       "      <th>0.01</th>\n",
       "      <td>119.927054</td>\n",
       "      <td>102.738962</td>\n",
       "      <td>100.628316</td>\n",
       "      <td>101</td>\n",
       "    </tr>\n",
       "    <tr>\n",
       "      <th>0.02</th>\n",
       "      <td>119.906244</td>\n",
       "      <td>102.725932</td>\n",
       "      <td>100.632724</td>\n",
       "      <td>101</td>\n",
       "    </tr>\n",
       "    <tr>\n",
       "      <th>0.03</th>\n",
       "      <td>119.885434</td>\n",
       "      <td>102.712902</td>\n",
       "      <td>100.637131</td>\n",
       "      <td>101</td>\n",
       "    </tr>\n",
       "    <tr>\n",
       "      <th>0.04</th>\n",
       "      <td>119.864623</td>\n",
       "      <td>102.699872</td>\n",
       "      <td>100.641539</td>\n",
       "      <td>101</td>\n",
       "    </tr>\n",
       "  </tbody>\n",
       "</table>\n",
       "</div>"
      ],
      "text/plain": [
       "               1           2           3    4\n",
       "t                                            \n",
       "0.00  119.947865  102.751992  100.623908  101\n",
       "0.01  119.927054  102.738962  100.628316  101\n",
       "0.02  119.906244  102.725932  100.632724  101\n",
       "0.03  119.885434  102.712902  100.637131  101\n",
       "0.04  119.864623  102.699872  100.641539  101"
      ]
     },
     "execution_count": 3,
     "metadata": {},
     "output_type": "execute_result"
    }
   ],
   "source": [
    "features_considered = ['1', '2', '3', '4']\n",
    "\n",
    "features = df[features_considered]\n",
    "features.index = df['t']\n",
    "features.head()"
   ]
  },
  {
   "cell_type": "code",
   "execution_count": 4,
   "id": "696dbdfd-dc11-4fd6-b2e6-1950fd5d16c6",
   "metadata": {},
   "outputs": [
    {
     "data": {
      "text/html": [
       "<div>\n",
       "<style scoped>\n",
       "    .dataframe tbody tr th:only-of-type {\n",
       "        vertical-align: middle;\n",
       "    }\n",
       "\n",
       "    .dataframe tbody tr th {\n",
       "        vertical-align: top;\n",
       "    }\n",
       "\n",
       "    .dataframe thead th {\n",
       "        text-align: right;\n",
       "    }\n",
       "</style>\n",
       "<table border=\"1\" class=\"dataframe\">\n",
       "  <thead>\n",
       "    <tr style=\"text-align: right;\">\n",
       "      <th></th>\n",
       "      <th>x</th>\n",
       "      <th>y</th>\n",
       "    </tr>\n",
       "    <tr>\n",
       "      <th>t</th>\n",
       "      <th></th>\n",
       "      <th></th>\n",
       "    </tr>\n",
       "  </thead>\n",
       "  <tbody>\n",
       "    <tr>\n",
       "      <th>0.00</th>\n",
       "      <td>15.860380</td>\n",
       "      <td>-23.297520</td>\n",
       "    </tr>\n",
       "    <tr>\n",
       "      <th>0.01</th>\n",
       "      <td>15.860189</td>\n",
       "      <td>-23.298586</td>\n",
       "    </tr>\n",
       "    <tr>\n",
       "      <th>0.02</th>\n",
       "      <td>15.859999</td>\n",
       "      <td>-23.299651</td>\n",
       "    </tr>\n",
       "    <tr>\n",
       "      <th>0.03</th>\n",
       "      <td>15.859808</td>\n",
       "      <td>-23.300717</td>\n",
       "    </tr>\n",
       "    <tr>\n",
       "      <th>0.04</th>\n",
       "      <td>15.859618</td>\n",
       "      <td>-23.301783</td>\n",
       "    </tr>\n",
       "  </tbody>\n",
       "</table>\n",
       "</div>"
      ],
      "text/plain": [
       "              x          y\n",
       "t                         \n",
       "0.00  15.860380 -23.297520\n",
       "0.01  15.860189 -23.298586\n",
       "0.02  15.859999 -23.299651\n",
       "0.03  15.859808 -23.300717\n",
       "0.04  15.859618 -23.301783"
      ]
     },
     "execution_count": 4,
     "metadata": {},
     "output_type": "execute_result"
    }
   ],
   "source": [
    "# outputs_considered = ['delta_x', 'delta_y']\n",
    "outputs_considered = ['x', 'y']\n",
    "outputs = df[outputs_considered]\n",
    "outputs.index = df['t']\n",
    "outputs.head()"
   ]
  },
  {
   "cell_type": "code",
   "execution_count": 5,
   "id": "a2b03ec9-dc33-476c-aaa1-a80b1730ecbd",
   "metadata": {},
   "outputs": [
    {
     "data": {
      "text/plain": [
       "array([<AxesSubplot:xlabel='t'>, <AxesSubplot:xlabel='t'>,\n",
       "       <AxesSubplot:xlabel='t'>, <AxesSubplot:xlabel='t'>], dtype=object)"
      ]
     },
     "execution_count": 5,
     "metadata": {},
     "output_type": "execute_result"
    },
    {
     "data": {
      "image/png": "[encoded data removed]",
      "text/plain": [
       "<Figure size 432x288 with 4 Axes>"
      ]
     },
     "metadata": {
      "needs_background": "light"
     },
     "output_type": "display_data"
    }
   ],
   "source": [
    "features.plot(subplots=True)"
   ]
  },
  {
   "cell_type": "code",
   "execution_count": 6,
   "id": "1b88ce84-b03a-4da0-88a7-684df62ba371",
   "metadata": {},
   "outputs": [
    {
     "data": {
      "text/plain": [
       "array([<AxesSubplot:xlabel='t'>, <AxesSubplot:xlabel='t'>], dtype=object)"
      ]
     },
     "execution_count": 6,
     "metadata": {},
     "output_type": "execute_result"
    },
    {
     "data": {
      "image/png": "[encoded data removed]",
      "text/plain": [
       "<Figure size 432x288 with 2 Axes>"
      ]
     },
     "metadata": {
      "needs_background": "light"
     },
     "output_type": "display_data"
    }
   ],
   "source": [
    "outputs.plot(subplots=True)"
   ]
  },
  {
   "cell_type": "code",
   "execution_count": 7,
   "id": "5aa57ccf-f392-47f9-a859-014a3ec572c9",
   "metadata": {},
   "outputs": [],
   "source": [
    "# We use \"lr_schedule\" to see which \"learning rate\" is optimum \n",
    "# Run the model with less epoch to visualize \"learning rate\" vs \"loss\"\n",
    "lr_schedule = tf.keras.callbacks.LearningRateScheduler(\n",
    "                    lambda epoch: 1e-8 * 10**(epoch/20))\n",
    "# Optimizer and loos parameters\n",
    "# loss = tf.keras.losses.Huber()\n",
    "# optimizer = tf.keras.optimizers.SGD(lr=1e-8, momentum=0.9)\n",
    "optimizer = 'adam'"
   ]
  },
  {
   "cell_type": "code",
   "execution_count": 8,
   "id": "e8227dbe-776a-40c7-8f9d-00e2ccbdeb4a",
   "metadata": {
    "scrolled": true,
    "tags": []
   },
   "outputs": [
    {
     "name": "stdout",
     "output_type": "stream",
     "text": [
      "(29701, 4)\n",
      "(29701, 2)\n",
      "iteration 0: MAE = 10.874\n",
      "iteration 1: MAE = 12.101\n",
      "iteration 2: MAE = 9.433\n",
      "iteration 3: MAE = 8.454\n",
      "iteration 4: MAE = 8.989\n",
      "iteration 5: MAE = 9.985\n",
      "iteration 6: MAE = 9.478\n",
      "iteration 7: MAE = 8.875\n",
      "iteration 8: MAE = 11.899\n",
      "iteration 9: MAE = 8.438\n",
      "iteration 10: MAE = 9.022\n",
      "iteration 11: MAE = 10.338\n",
      "iteration 12: MAE = 8.638\n",
      "iteration 13: MAE = 11.458\n",
      "iteration 14: MAE = 9.385\n",
      "iteration 15: MAE = 10.144\n",
      "iteration 16: MAE = 8.961\n",
      "iteration 17: MAE = 9.417\n",
      "iteration 18: MAE = 9.383\n",
      "iteration 19: MAE = 9.141\n",
      "iteration 20: MAE = 8.713\n",
      "iteration 21: MAE = 10.607\n",
      "iteration 22: MAE = 9.083\n",
      "iteration 23: MAE = 9.304\n",
      "iteration 24: MAE = 8.731\n",
      "iteration 25: MAE = 10.368\n",
      "iteration 26: MAE = 9.809\n",
      "iteration 27: MAE = 9.553\n",
      "iteration 28: MAE = 9.808\n",
      "iteration 29: MAE = 11.605\n",
      "MAE: 9.733 (1.005)\n"
     ]
    }
   ],
   "source": [
    "\n",
    "# get the model\n",
    "def get_model(n_inputs, n_outputs):\n",
    "    model = Sequential()\n",
    "    model.add(Input(shape=(n_inputs,)))\n",
    "    model.add(Dense(32, kernel_initializer='he_uniform', activation='relu'))\n",
    "    model.add(Dense(128, kernel_initializer='he_uniform', activation='relu'))\n",
    "    model.add(Dense(64, kernel_initializer='he_uniform', activation='relu'))\n",
    "    model.add(Dense(16, kernel_initializer='he_uniform', activation='relu'))\n",
    "    model.add(Dense(n_outputs))\n",
    "    # model.compile(loss='mae', optimizer='adam')\n",
    "    model.compile(loss='mae', optimizer=optimizer)\n",
    "    return model\n",
    "\n",
    "# load dataset\n",
    "# X, y = make_regression(n_samples=1000, n_features=10, n_informative=5, n_targets=3, random_state=2)\n",
    "X = features.values\n",
    "y = outputs.values\n",
    "print(X.shape)\n",
    "print(y.shape)\n",
    "\n",
    "# evaluate model\n",
    "results = list()\n",
    "n_inputs, n_outputs = X.shape[1], y.shape[1]\n",
    "# define evaluation procedure\n",
    "cv = RepeatedKFold(n_splits=10, n_repeats=3, random_state=1)\n",
    "# enumerate folds\n",
    "for train_ix, test_ix in cv.split(X):\n",
    "    # prepare data\n",
    "    X_train, X_test = X[train_ix], X[test_ix]\n",
    "    y_train, y_test = y[train_ix], y[test_ix]\n",
    "    # define model\n",
    "    model = get_model(n_inputs, n_outputs)\n",
    "    # fit model\n",
    "    model.fit(X_train, y_train, verbose=0, epochs=10)\n",
    "    # history = model.fit(X_train, y_train, verbose=0, epochs=10, callbacks=[lr_schedule])\n",
    "    # evaluate model on test set\n",
    "    mae = model.evaluate(X_test, y_test, verbose=0)\n",
    "    # store result\n",
    "    print('iteration %d: MAE = %.3f' %(len(results), mae))\n",
    "\n",
    "    results.append(mae)\n",
    "    \n",
    "# summarize performance\n",
    "print('MAE: %.3f (%.3f)' % (mean(results), std(results)))"
   ]
  },
  {
   "cell_type": "code",
   "execution_count": 9,
   "id": "9ed61fc5-2f45-4ea6-9de3-fc23525c6f74",
   "metadata": {},
   "outputs": [
    {
     "name": "stdout",
     "output_type": "stream",
     "text": [
      "Predicted: [[-76.78053  -17.67771 ]\n",
      " [-76.78086  -17.677645]\n",
      " [-76.78119  -17.677574]\n",
      " [-76.78153  -17.677513]\n",
      " [-76.78185  -17.677444]]\n"
     ]
    }
   ],
   "source": [
    "y_pred = model.predict(X)\n",
    "print('Predicted: %s' % y_pred[:5])"
   ]
  },
  {
   "cell_type": "code",
   "execution_count": 10,
   "id": "956145ec-70ce-41b9-84d5-af0edb9a449d",
   "metadata": {},
   "outputs": [
    {
     "name": "stdout",
     "output_type": "stream",
     "text": [
      "Real Value: [[ 15.86038    -23.29752   ]\n",
      " [ 15.86018939 -23.29858573]\n",
      " [ 15.85999878 -23.29965147]\n",
      " [ 15.85980817 -23.3007172 ]\n",
      " [ 15.85961756 -23.30178294]]\n"
     ]
    }
   ],
   "source": [
    "print('Real Value: %s' % y[:5])"
   ]
  },
  {
   "cell_type": "code",
   "execution_count": null,
   "id": "34b16e47-0def-4bbc-9936-7f23f8e15a35",
   "metadata": {},
   "outputs": [],
   "source": []
  }
 ],
 "metadata": {
  "kernelspec": {
   "display_name": "Python 3",
   "language": "python",
   "name": "python3"
  },
  "language_info": {
   "codemirror_mode": {
    "name": "ipython",
    "version": 3
   },
   "file_extension": ".py",
   "mimetype": "text/x-python",
   "name": "python",
   "nbconvert_exporter": "python",
   "pygments_lexer": "ipython3",
   "version": "3.9.12"
  }
 },
 "nbformat": 4,
 "nbformat_minor": 5
}
